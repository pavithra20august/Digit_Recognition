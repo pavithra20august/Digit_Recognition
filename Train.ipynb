{
  "nbformat": 4,
  "nbformat_minor": 0,
  "metadata": {
    "colab": {
      "name": "Welcome To Colaboratory",
      "provenance": [],
      "collapsed_sections": []
    },
    "kernelspec": {
      "display_name": "Python 3",
      "name": "python3"
    }
  },
  "cells": [
    {
      "cell_type": "code",
      "metadata": {
        "id": "l3JF6ZyAksh7"
      },
      "source": [
        "from sklearn.externals import joblib\n",
        "from sklearn import datasets\n",
        "import numpy as np\n",
        "from sklearn.datasets import fetch_openml\n",
        "from sklearn.neural_network.multilayer_perceptron import  MLPClassifier"
      ],
      "execution_count": 7,
      "outputs": []
    },
    {
      "cell_type": "code",
      "metadata": {
        "id": "cczlttY4l_FM"
      },
      "source": [
        "dataset = datasets.fetch_openml('mnist_784')\n",
        "X = np.array(dataset.data)  \n",
        "y = np.array(dataset.target) "
      ],
      "execution_count": 8,
      "outputs": []
    },
    {
      "cell_type": "code",
      "metadata": {
        "id": "IscxcdODmWiX"
      },
      "source": [
        "X =  X.astype('float32')"
      ],
      "execution_count": 9,
      "outputs": []
    },
    {
      "cell_type": "code",
      "metadata": {
        "id": "vjQp3aFbmbfQ"
      },
      "source": [
        "X_train, X_test = X[:60000], X[60000:]\n",
        "y_train, y_test = y[:60000], y[60000:]"
      ],
      "execution_count": 10,
      "outputs": []
    },
    {
      "cell_type": "code",
      "metadata": {
        "id": "hsis2zEVmvu1"
      },
      "source": [
        "X_train = X_train /255\n",
        "X_test = X_test /255"
      ],
      "execution_count": 11,
      "outputs": []
    },
    {
      "cell_type": "code",
      "metadata": {
        "id": "DrwgGx4qnIap"
      },
      "source": [
        "mlp = MLPClassifier(hidden_layer_sizes=(240), max_iter=500, verbose=True)"
      ],
      "execution_count": 12,
      "outputs": []
    },
    {
      "cell_type": "code",
      "metadata": {
        "id": "XJr4pSmZnb5s",
        "outputId": "a472a5da-dee5-4700-ef6b-95938123ee24",
        "colab": {
          "base_uri": "https://localhost:8080/"
        }
      },
      "source": [
        "mlp.fit(X_train, y_train)"
      ],
      "execution_count": 15,
      "outputs": [
        {
          "output_type": "stream",
          "name": "stdout",
          "text": [
            "Iteration 1, loss = 0.35290281\n",
            "Iteration 2, loss = 0.15522702\n",
            "Iteration 3, loss = 0.10891918\n",
            "Iteration 4, loss = 0.08247362\n",
            "Iteration 5, loss = 0.06560567\n",
            "Iteration 6, loss = 0.05453983\n",
            "Iteration 7, loss = 0.04387640\n",
            "Iteration 8, loss = 0.03680288\n",
            "Iteration 9, loss = 0.02982798\n",
            "Iteration 10, loss = 0.02466542\n",
            "Iteration 11, loss = 0.02014109\n",
            "Iteration 12, loss = 0.01701506\n",
            "Iteration 13, loss = 0.01429413\n",
            "Iteration 14, loss = 0.01192149\n",
            "Iteration 15, loss = 0.01021490\n",
            "Iteration 16, loss = 0.00816027\n",
            "Iteration 17, loss = 0.00748293\n",
            "Iteration 18, loss = 0.00558836\n",
            "Iteration 19, loss = 0.00454511\n",
            "Iteration 20, loss = 0.00455749\n",
            "Iteration 21, loss = 0.00649016\n",
            "Iteration 22, loss = 0.00433679\n",
            "Iteration 23, loss = 0.00262380\n",
            "Iteration 24, loss = 0.00226166\n",
            "Iteration 25, loss = 0.00203179\n",
            "Iteration 26, loss = 0.00237505\n",
            "Iteration 27, loss = 0.00178320\n",
            "Iteration 28, loss = 0.01346200\n",
            "Iteration 29, loss = 0.00655368\n",
            "Iteration 30, loss = 0.00216800\n",
            "Iteration 31, loss = 0.00122184\n",
            "Iteration 32, loss = 0.00109329\n",
            "Iteration 33, loss = 0.00103465\n",
            "Iteration 34, loss = 0.00098080\n",
            "Iteration 35, loss = 0.00095243\n",
            "Iteration 36, loss = 0.00091322\n",
            "Iteration 37, loss = 0.00088365\n",
            "Iteration 38, loss = 0.00085669\n",
            "Iteration 39, loss = 0.00083407\n",
            "Iteration 40, loss = 0.00088100\n",
            "Iteration 41, loss = 0.02278025\n",
            "Iteration 42, loss = 0.00381235\n",
            "Iteration 43, loss = 0.00149257\n",
            "Training loss did not improve more than tol=0.000100 for 10 consecutive epochs. Stopping.\n"
          ]
        },
        {
          "output_type": "execute_result",
          "data": {
            "text/plain": [
              "MLPClassifier(activation='relu', alpha=0.0001, batch_size='auto', beta_1=0.9,\n",
              "              beta_2=0.999, early_stopping=False, epsilon=1e-08,\n",
              "              hidden_layer_sizes=240, learning_rate='constant',\n",
              "              learning_rate_init=0.001, max_fun=15000, max_iter=500,\n",
              "              momentum=0.9, n_iter_no_change=10, nesterovs_momentum=True,\n",
              "              power_t=0.5, random_state=None, shuffle=True, solver='adam',\n",
              "              tol=0.0001, validation_fraction=0.1, verbose=True,\n",
              "              warm_start=False)"
            ]
          },
          "metadata": {},
          "execution_count": 15
        }
      ]
    },
    {
      "cell_type": "code",
      "metadata": {
        "id": "9K60JMlcng1S",
        "outputId": "24d5699e-e22c-4ad2-cf4f-a54d27ebd272",
        "colab": {
          "base_uri": "https://localhost:8080/"
        }
      },
      "source": [
        "print(\"Training accuracy: %f\" % mlp.score(X_train, y_train)) \n"
      ],
      "execution_count": 19,
      "outputs": [
        {
          "output_type": "stream",
          "name": "stdout",
          "text": [
            "Training accuracy: 1.000000\n"
          ]
        }
      ]
    },
    {
      "cell_type": "code",
      "metadata": {
        "id": "_4yNPoQQ2hJn",
        "outputId": "1a125469-6b4a-4bd2-feb8-019de12a795a",
        "colab": {
          "base_uri": "https://localhost:8080/"
        }
      },
      "source": [
        "print(\"Test accuracy: %f\" % mlp.score(X_test, y_test))  "
      ],
      "execution_count": 20,
      "outputs": [
        {
          "output_type": "stream",
          "name": "stdout",
          "text": [
            "Test accuracy: 0.982500\n"
          ]
        }
      ]
    },
    {
      "cell_type": "code",
      "metadata": {
        "id": "Gt4Eke0lqKWE",
        "outputId": "2def5746-44ac-4cf1-8591-b227caaa2c8e",
        "colab": {
          "base_uri": "https://localhost:8080/"
        }
      },
      "source": [
        "joblib.dump(mlp, \"/content/sample_data/digit_recog.pkl\")"
      ],
      "execution_count": 21,
      "outputs": [
        {
          "output_type": "execute_result",
          "data": {
            "text/plain": [
              "['/content/sample_data/digit_recog.pkl']"
            ]
          },
          "metadata": {},
          "execution_count": 21
        }
      ]
    }
  ]
}